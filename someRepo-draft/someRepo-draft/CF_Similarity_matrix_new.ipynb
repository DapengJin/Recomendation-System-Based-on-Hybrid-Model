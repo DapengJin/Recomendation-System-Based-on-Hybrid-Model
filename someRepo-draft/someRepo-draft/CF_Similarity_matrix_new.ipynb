{
 "cells": [
  {
   "cell_type": "code",
   "execution_count": 1,
   "metadata": {},
   "outputs": [
    {
     "name": "stdout",
     "output_type": "stream",
     "text": [
      "Starting Spark application\n"
     ]
    },
    {
     "data": {
      "text/html": [
       "<table>\n",
       "<tr><th>ID</th><th>YARN Application ID</th><th>Kind</th><th>State</th><th>Spark UI</th><th>Driver log</th><th>Current session?</th></tr><tr><td>956</td><td>application_1551670200070_0574</td><td>pyspark</td><td>idle</td><td><a target=\"_blank\" href=\"http://data-services3.cs.rutgers.edu:8088/proxy/application_1551670200070_0574/\">Link</a></td><td><a target=\"_blank\" href=\"http://data2.cs.rutgers.edu:8042/node/containerlogs/container_e68_1551670200070_0574_01_000001/dj381\">Link</a></td><td>✔</td></tr></table>"
      ],
      "text/plain": [
       "<IPython.core.display.HTML object>"
      ]
     },
     "metadata": {},
     "output_type": "display_data"
    },
    {
     "name": "stdout",
     "output_type": "stream",
     "text": [
      "SparkSession available as 'spark'.\n"
     ]
    }
   ],
   "source": [
    "lines = spark.read.csv('train.csv', header = False)"
   ]
  },
  {
   "cell_type": "code",
   "execution_count": 2,
   "metadata": {},
   "outputs": [
    {
     "name": "stdout",
     "output_type": "stream",
     "text": [
      "80419"
     ]
    }
   ],
   "source": [
    "lines.count()"
   ]
  },
  {
   "cell_type": "code",
   "execution_count": 3,
   "metadata": {},
   "outputs": [
    {
     "name": "stdout",
     "output_type": "stream",
     "text": [
      "[Row(_c0='1', _c1='1', _c2='4.0', _c3='964982703'), Row(_c0='1', _c1='3', _c2='4.0', _c3='964981247'), Row(_c0='1', _c1='6', _c2='4.0', _c3='964982224')]"
     ]
    }
   ],
   "source": [
    "lines.take(3)"
   ]
  },
  {
   "cell_type": "code",
   "execution_count": 4,
   "metadata": {},
   "outputs": [
    {
     "name": "stdout",
     "output_type": "stream",
     "text": [
      "[Row(_c0='1', _c1='1', _c2='4.0', _c3='964982703'), Row(_c0='1', _c1='3', _c2='4.0', _c3='964981247')]"
     ]
    }
   ],
   "source": [
    "rdd = sc.parallelize(lines.take(80419)) # 80419\n",
    "rdd.take(2)"
   ]
  },
  {
   "cell_type": "code",
   "execution_count": null,
   "metadata": {},
   "outputs": [],
   "source": []
  },
  {
   "cell_type": "code",
   "execution_count": 40,
   "metadata": {},
   "outputs": [],
   "source": [
    "mean_ri = (rdd  # -->(user ID, movie ID, rate, time)\n",
    "           \n",
    "           .map(lambda x: (int(x[1]), int(x[0]), float(x[2]))) # -->(movie ID, user ID, rate)\n",
    "           .sortBy(lambda x: x[0]) # sort by movie ID \n",
    "           .map(lambda x: (x[0], (x[2], 1) )) # -->(movie ID, (rate, 1))\n",
    "           .reduceByKey(lambda x, y: (x[0]+y[0], x[1]+y[1]) ) # -->(movie ID, (total rate, times))\n",
    "           .sortBy(lambda x: x[0]) # sort by movie ID \n",
    "           .map(lambda x: (x[0], x[1][0]/x[1][1])) # -->(movie ID, mean)\n",
    "            \n",
    "            )"
   ]
  },
  {
   "cell_type": "code",
   "execution_count": 158,
   "metadata": {},
   "outputs": [
    {
     "name": "stdout",
     "output_type": "stream",
     "text": [
      "[(1, 3.9209302325581397), (2, 3.4318181818181817), (3, 3.5384615384615383)]"
     ]
    }
   ],
   "source": [
    "mean_list = mean_ri.take(mean_ri.count()) \n",
    "mean_list[:3]"
   ]
  },
  {
   "cell_type": "code",
   "execution_count": 133,
   "metadata": {},
   "outputs": [
    {
     "name": "stdout",
     "output_type": "stream",
     "text": [
      "[(1, (328, 1.0790697674418603)), (1, (330, 0.07906976744186034)), (1, (332, 0.07906976744186034)), (1, (334, -0.42093023255813966))]"
     ]
    }
   ],
   "source": [
    "def splitByKey(x): # reverse function of groupByKey. use key to split every element in value \n",
    "    list_ = []\n",
    "    key_ = x[0]\n",
    "    for i in x[1]:\n",
    "        list_.append((key_, i))\n",
    "    return list_\n",
    "\n",
    "\n",
    "def fun_minus(x, mean_list): # every rate value minus mean in this row. So we can get r_is - r_i\n",
    "\n",
    "    mean_ = -1\n",
    "    for i in mean_list: # find mean in x[0]th row \n",
    "        if x[0] == i[0]:\n",
    "            mean_ = i[1]\n",
    "            break \n",
    "\n",
    "    for i in range(len(x[1])):\n",
    "\n",
    "        x[1][i] = (x[1][i][0], x[1][i][1]-mean_)\n",
    "    return x \n",
    "        \n",
    "# x = (1, [(328, 5.0), (330, 4.0), (332, 4.0), (334, 3.5)])\n",
    "# fun_minus(x, mean_list)\n",
    "# splitByKey(x)"
   ]
  },
  {
   "cell_type": "code",
   "execution_count": 149,
   "metadata": {},
   "outputs": [],
   "source": [
    "minus_mean = (rdd  # -->(user ID, movie ID, rate, time)\n",
    "             .map(lambda x: (int(x[1]), (int(x[0]), float(x[2]))))  # -->(movie ID, (user ID, rate)  )\n",
    "             .groupByKey()\n",
    "             .sortByKey()\n",
    "             .map(lambda x: (x[0], list(x[1])))  # -->(movie ID, [(user ID, rate), ...]  )\n",
    "             .map(lambda x: fun_minus(x, mean_list))  # -->(movie ID, [(user ID, rate-mean), ...]  )\n",
    "             .flatMap(splitByKey)  # -->(movie ID, (user ID, rate-mean))\n",
    "             .map(lambda x: (x[1][0], x[0], x[1][1]))  # -->(user ID, movie ID, rate)\n",
    "             .sortBy(lambda x: x[1])\n",
    "             .sortBy(lambda x: x[0])\n",
    "#              .sortBy(lambda x: x[1])\n",
    "#              .sortBy(lambda x: x[0])\n",
    "            )"
   ]
  },
  {
   "cell_type": "code",
   "execution_count": 179,
   "metadata": {},
   "outputs": [
    {
     "name": "stdout",
     "output_type": "stream",
     "text": [
      "[(1, 3489, 0.641509433962264), (1, 3527, 0.41803278688524603)]"
     ]
    }
   ],
   "source": [
    "minus_mean.take(2)\n"
   ]
  },
  {
   "cell_type": "code",
   "execution_count": 176,
   "metadata": {},
   "outputs": [],
   "source": [
    "import itertools as it\n",
    "import math "
   ]
  },
  {
   "cell_type": "code",
   "execution_count": 163,
   "metadata": {},
   "outputs": [],
   "source": [
    "i_j_ri_rj = (minus_mean  # -->(user ID, movie ID, rate)\n",
    "             .map(lambda x: (int(x[0]), (int(x[1]), float(x[2]))))  # -->(user ID, (movie ID, rate)  )\n",
    "             .groupByKey()\n",
    "             .sortByKey()\n",
    "             .map(lambda x: list(x[1]))  # -->[(movie ID_1, rate_1), ...]\n",
    "             .map(lambda x: list( it.combinations(sorted(x, key=lambda x: x[0]), 2))) # need to be ordered \n",
    "             .flatMap(lambda x: x)  # -->((1, 4.0), (3, 4.0))\n",
    "             .map(lambda x: ((x[0][0], x[1][0]),(x[0][1], x[1][1]))       )   # -->(  (movie ID_1, ID_2), (rate_1, rate_2)   ) \n",
    "#              .filter(lambda x: x[0][1] < x[0][0])    \n",
    "\n",
    "            \n",
    "            )"
   ]
  },
  {
   "cell_type": "code",
   "execution_count": 164,
   "metadata": {
    "scrolled": true
   },
   "outputs": [
    {
     "name": "stdout",
     "output_type": "stream",
     "text": [
      "[((1, 3), (0.07906976744186034, 0.4615384615384617)), ((1, 6), (0.07906976744186034, 0.0)), ((1, 47), (0.07906976744186034, 1.0350000000000001)), ((1, 50), (0.07906976744186034, 0.6944444444444446)), ((1, 70), (0.07906976744186034, -0.5090909090909093))]"
     ]
    }
   ],
   "source": [
    "i_j_ri_rj.take(5)"
   ]
  },
  {
   "cell_type": "code",
   "execution_count": 174,
   "metadata": {},
   "outputs": [],
   "source": [
    "similarity = (i_j_ri_rj\n",
    "              .map(lambda x: (x[0], (x[1][0]* x[1][1], x[1][0]**2, x[1][1]**2))  )# -->(  (i, j), (r_i*r_j, r_i**2, r_j**2)   ) \n",
    "              .reduceByKey(lambda x, y: (x[0]+y[0], x[1]+y[1], x[2]+y[2]) )\n",
    "\n",
    "\n",
    "            )"
   ]
  },
  {
   "cell_type": "code",
   "execution_count": 175,
   "metadata": {
    "scrolled": true
   },
   "outputs": [
    {
     "name": "stdout",
     "output_type": "stream",
     "text": [
      "[((10, 1374), (7.4415933528836735, 10.454731978879705, 22.26899063475546)), ((318, 1704), (3.1038836195847184, 19.44429525330236, 30.14507570041749))]"
     ]
    }
   ],
   "source": [
    "similarity.take(2)"
   ]
  },
  {
   "cell_type": "code",
   "execution_count": 177,
   "metadata": {},
   "outputs": [],
   "source": [
    "similarity_1 = (similarity.map(lambda x: (x[0], x[1][0]/(math.sqrt(x[1][1])* math.sqrt(x[1][2])    )))\n",
    "\n",
    ")"
   ]
  },
  {
   "cell_type": "code",
   "execution_count": 178,
   "metadata": {},
   "outputs": [
    {
     "name": "stdout",
     "output_type": "stream",
     "text": [
      "[((1097, 2985), 0.07485762487258603), ((1517, 2657), 0.29785283807225976)]"
     ]
    }
   ],
   "source": [
    "similarity_1.take(2)"
   ]
  },
  {
   "cell_type": "code",
   "execution_count": null,
   "metadata": {},
   "outputs": [],
   "source": []
  }
 ],
 "metadata": {
  "kernelspec": {
   "display_name": "PySpark",
   "language": "",
   "name": "pysparkkernel"
  },
  "language_info": {
   "codemirror_mode": {
    "name": "python",
    "version": 2
   },
   "mimetype": "text/x-python",
   "name": "pyspark",
   "pygments_lexer": "python2"
  }
 },
 "nbformat": 4,
 "nbformat_minor": 2
}
