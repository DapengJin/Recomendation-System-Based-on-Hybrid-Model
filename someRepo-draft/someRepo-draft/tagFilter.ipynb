{
 "cells": [
  {
   "cell_type": "code",
   "execution_count": null,
   "metadata": {},
   "outputs": [],
   "source": [
    "def getTag(row):\n",
    "\tuIdx, mIdx, tag, time = row\n",
    "\treturn (tag.lower(), 1)\n",
    "\n",
    "def count(x, y):\n",
    "\treturn (x + y)\n",
    "\n",
    "def checkFrq(tagCount):\n",
    "\ttag, count = tagCount\n",
    "\treturn (count > 20)\n",
    "\n",
    "class frqFilter(object):\n",
    "\tdef __init__(self, tagCount):\n",
    "\t\tself.freqTag = {tag for (tag, count) in tagCount}\n",
    "\t\treturn\n",
    "\tdef checkFrq(self, row):\n",
    "\t\tuIdx, mIdx, tag, time = row\n",
    "\t\treturn (tag.lower() in self.freqTag)"
   ]
  },
  {
   "cell_type": "code",
   "execution_count": null,
   "metadata": {},
   "outputs": [],
   "source": [
    "data = spark.read.csv('/user/hz333/data/project/tags.csv', header = True)"
   ]
  },
  {
   "cell_type": "code",
   "execution_count": null,
   "metadata": {},
   "outputs": [],
   "source": [
    "#(uIdx, mIdx, tag, time) => (tag, 1)\n",
    "tags = data.rdd.map(getTag)\n",
    "#(tag, 1) => (tag, count)\n",
    "tagCount = tags.reduceByKey(count)"
   ]
  },
  {
   "cell_type": "code",
   "execution_count": null,
   "metadata": {},
   "outputs": [],
   "source": [
    "#(tag, count) => (frqTag, count)\n",
    "frqTag = tagCount.filter(checkFrq)\n",
    "frqTag = frqTag.collect()"
   ]
  },
  {
   "cell_type": "code",
   "execution_count": null,
   "metadata": {},
   "outputs": [],
   "source": [
    "print(frqTag)"
   ]
  },
  {
   "cell_type": "code",
   "execution_count": null,
   "metadata": {},
   "outputs": [],
   "source": [
    "frqTagF = frqFilter(frqTag)\n",
    "#(uIdx, mIdx, tag, time) => (uIdx, mIdx, frqTag, time)\n",
    "frqTagData = data.rdd.filter(frqTagF.checkFrq)"
   ]
  },
  {
   "cell_type": "code",
   "execution_count": null,
   "metadata": {},
   "outputs": [],
   "source": [
    "frqTagCSV = spark.createDataFrame(frqTagData, samplingRatio = 1)\n",
    "frqTagCSV.repartition(1).write.option('header', 'false').csv('/user/hz333/data/project/frqTag.csv')"
   ]
  }
 ],
 "metadata": {
  "kernelspec": {
   "display_name": "PySpark",
   "language": "",
   "name": "pysparkkernel"
  },
  "language_info": {
   "codemirror_mode": {
    "name": "python",
    "version": 2
   },
   "mimetype": "text/x-python",
   "name": "pyspark",
   "pygments_lexer": "python2"
  }
 },
 "nbformat": 4,
 "nbformat_minor": 2
}
