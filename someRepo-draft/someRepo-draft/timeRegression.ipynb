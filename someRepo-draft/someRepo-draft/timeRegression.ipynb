{
 "cells": [
  {
   "cell_type": "code",
   "execution_count": null,
   "metadata": {},
   "outputs": [],
   "source": [
    "def getRateTime(row):\n",
    "\tuIdx, mIdx, rate, time = row\n",
    "\trate = float(rate)\n",
    "\t#60 seconds * 60 minutes * 24 hours * 7days, 52 weeks * 25 years since 1970\n",
    "\ttime = int(time) // 604800 - 1300\n",
    "\treturn (rate, time)\n",
    "\n",
    "def getRate(rateTime):\n",
    "\trate, time = rateTime\n",
    "\treturn rate\n",
    "\n",
    "def getTime(rateTime):\n",
    "\trate, time = rateTime\n",
    "\treturn time\n",
    "\n",
    "class regression(object):\n",
    "\tdef __init__(self, mRate, mTime):\n",
    "\t\tself.mRate = mRate\n",
    "\t\tself.mTime = mTime\n",
    "\t\treturn\n",
    "\n",
    "\tdef getK(self, rateTime):\n",
    "\t\trate, time = rateTime\n",
    "\t\tdRate = rate - self.mRate\n",
    "\t\tdTime = time - self.mTime\n",
    "\t\treturn (dRate * dTime, dTime ** 2)\n",
    "\n",
    "\tdef getB(self, k):\n",
    "\t\treturn self.mRate - self.mTime * k\n",
    "\n",
    "def sumK(a, b):\n",
    "\taxy, ax2 = a\n",
    "\tbxy, bx2 = b\n",
    "\treturn (axy + bxy, ax2 + bx2)\n",
    "\n",
    "class rescale(object):\n",
    "\tdef __init__(self, k, b):\n",
    "\t\tself.k = k\n",
    "\t\tself.b = b\n",
    "\t\treturn\n",
    "\n",
    "\tdef scale(self, row):\n",
    "\t\tuIdx, mIdx, rate, time = row\n",
    "\t\trate = float(rate)\n",
    "\t\tsTime = int(time) // 604800 - 1300\n",
    "\t\tsRate = rate - (self.k * sTime + self.b)\n",
    "\t\treturn (uIdx, mIdx, sRate, time)"
   ]
  },
  {
   "cell_type": "code",
   "execution_count": null,
   "metadata": {},
   "outputs": [],
   "source": [
    "rateData = spark.read.csv('/user/hz333/data/project/train.csv', header = False)"
   ]
  },
  {
   "cell_type": "code",
   "execution_count": null,
   "metadata": {},
   "outputs": [],
   "source": [
    "#(uIdx, mIdx, rate, time) => (rate, time)\n",
    "rateTime = rateData.rdd.map(getRateTime)\n",
    "\n",
    "#(rate, time) => (rate, )\n",
    "rate = rateTime.map(getRate)\n",
    "#(rate, time) => (time, )\n",
    "time = rateTime.map(getTime)\n",
    "meanRate = rate.mean()\n",
    "meanTime = time.mean()\n",
    "\n",
    "reg = regression(meanRate, meanTime)\n",
    "\n",
    "#(rate, time) => ((rate - mRate) * (time - mTime), (time - mTime) ** 2)\n",
    "kData = rateTime.map(reg.getK)\n",
    "#((rate - mRate) * (time - mTime), (time - mTime) ** 2) => (numerator, denominator)\n",
    "kData = kData.reduce(sumK)\n",
    "\n",
    "k = kData[0] / kData[1]\n",
    "b = reg.getB(k) - 3.25 #move rates in range [0, 5]"
   ]
  },
  {
   "cell_type": "code",
   "execution_count": null,
   "metadata": {},
   "outputs": [],
   "source": [
    "print(k)\n",
    "print(b)"
   ]
  },
  {
   "cell_type": "code",
   "execution_count": null,
   "metadata": {},
   "outputs": [],
   "source": [
    "res = rescale(k, b)\n",
    "#(uIdx, mIdx, rate, time) => (uIdx, mIdx, sRate, time)\n",
    "sRateData = rateData.rdd.map(res.scale)\n",
    "sRateData.take(10)"
   ]
  },
  {
   "cell_type": "code",
   "execution_count": null,
   "metadata": {},
   "outputs": [],
   "source": [
    "minSRate = sRateData.min(lambda x: x[2])\n",
    "maxSRate = sRateData.max(lambda x: x[2])"
   ]
  },
  {
   "cell_type": "code",
   "execution_count": null,
   "metadata": {},
   "outputs": [],
   "source": [
    "print(minSRate)\n",
    "print(maxSRate)"
   ]
  },
  {
   "cell_type": "code",
   "execution_count": null,
   "metadata": {},
   "outputs": [],
   "source": [
    "sTrainCSV = spark.createDataFrame(sRateData, samplingRatio = 1)\n",
    "sTrainCSV.repartition(1).write.option('header', 'false').csv('/user/hz333/data/project/sTrain.csv')"
   ]
  },
  {
   "cell_type": "code",
   "execution_count": null,
   "metadata": {},
   "outputs": [],
   "source": [
    "testData = spark.read.csv('/user/hz333/data/project/test.csv', header = False)\n",
    "sRateData = testData.rdd.map(res.scale)\n",
    "print(sRateData.take(10))\n",
    "minSRate = sRateData.min(lambda x: x[2])\n",
    "maxSRate = sRateData.max(lambda x: x[2])\n",
    "print(minSRate)\n",
    "print(maxSRate)\n",
    "sTestCSV = spark.createDataFrame(sRateData, samplingRatio = 1)\n",
    "sTestCSV.repartition(1).write.option('header', 'false').csv('/user/hz333/data/project/sTest.csv')"
   ]
  },
  {
   "cell_type": "code",
   "execution_count": null,
   "metadata": {},
   "outputs": [],
   "source": [
    "validData = spark.read.csv('/user/hz333/data/project/valid.csv', header = False)\n",
    "sRateData = validData.rdd.map(res.scale)\n",
    "print(sRateData.take(10))\n",
    "minSRate = sRateData.min(lambda x: x[2])\n",
    "maxSRate = sRateData.max(lambda x: x[2])\n",
    "print(minSRate)\n",
    "print(maxSRate)\n",
    "sValidCSV = spark.createDataFrame(sRateData, samplingRatio = 1)\n",
    "sValidCSV.repartition(1).write.option('header', 'false').csv('/user/hz333/data/project/sValid.csv')"
   ]
  }
 ],
 "metadata": {
  "kernelspec": {
   "display_name": "PySpark",
   "language": "",
   "name": "pysparkkernel"
  },
  "language_info": {
   "codemirror_mode": {
    "name": "python",
    "version": 2
   },
   "mimetype": "text/x-python",
   "name": "pyspark",
   "pygments_lexer": "python2"
  }
 },
 "nbformat": 4,
 "nbformat_minor": 2
}
