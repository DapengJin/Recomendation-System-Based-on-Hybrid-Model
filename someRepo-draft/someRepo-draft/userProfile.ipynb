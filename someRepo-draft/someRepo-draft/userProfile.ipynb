{
 "cells": [
  {
   "cell_type": "code",
   "execution_count": null,
   "metadata": {},
   "outputs": [],
   "source": [
    "import math\n",
    "\n",
    "def weightRate(rate, time): #TODO: a better approach to weight rates using time\n",
    "\trate = float(rate)\n",
    "\treturn rate\n",
    "\n",
    "def weightProfi(rate, profi): #TODO: a better approach to weight profiles using rate\n",
    "\tif rate <= 0:\n",
    "\t\treturn [0 for profiDim in profi]\n",
    "\telse:\n",
    "\t\treturn [rate * profiDim for profiDim in profi]\n",
    "\n",
    "def getMovieLine(row):\n",
    "\tmIdx = row[0]\n",
    "\tprofi = row[1:]\n",
    "\treturn (mIdx, [float(profiDim) for profiDim in profi])\n",
    "\n",
    "def getRateLine(row):\n",
    "\tuIdx, mIdx, rate, time = row\n",
    "\twRate = weightRate(rate, time)\n",
    "\treturn (uIdx, (mIdx, wRate))\n",
    "\n",
    "def getUserRate(line):\n",
    "\tuIdx, mRate = line\n",
    "\tmIdx, rate = mRate\n",
    "\treturn (uIdx, (1, rate, rate ** 2))\n",
    "\n",
    "def sumUserRate(x, y):\n",
    "\txC, xR, xR2 = x\n",
    "\tyC, yR, yR2 = y\n",
    "\treturn (xC + yC, xR + yR, xR2 + yR2)\n",
    "\n",
    "class rateNormalizer(object):\n",
    "\tdef __init__(self, userRateCount):\n",
    "\t\tself.meanRate = dict()\n",
    "\t\tself.varRate = dict()\n",
    "\t\tfor uIdx, rateCount in userRateCount:\n",
    "\t\t\tcount, rate, rate2 = rateCount\n",
    "\t\t\tself.meanRate[uIdx] = rate / count\n",
    "\t\t\tself.varRate[uIdx] = (rate2 / count) - self.meanRate[uIdx] ** 2\n",
    "\t\tself.sqrtMeanVarRate = math.sqrt(sum(self.varRate.values()) / len(self.varRate))\n",
    "\t\treturn\n",
    "\n",
    "\tdef normalize(self, line):\n",
    "\t\tuIdx, mRate = line\n",
    "\t\tmIdx, rate = mRate\n",
    "\t\t#assume the rate is normal dist., normalize to N(0, 1)\n",
    "\t\tnRate = 0.1 + (rate - self.meanRate[uIdx]) / (math.sqrt(self.varRate[uIdx]) + self.sqrtMeanVarRate) #TODO: a better approach to avoid dividing by 0\n",
    "\t\treturn (mIdx, (uIdx, nRate))\n",
    "\n",
    "def getUserComponent(data):\n",
    "\tmIdx, UM = data\n",
    "\tmProfi, uRate = UM\n",
    "\tuIdx, rate = uRate\n",
    "\tuProfiCompo = weightProfi(rate, mProfi)\n",
    "\treturn (uIdx, uProfiCompo)\n",
    "\n",
    "def sumUserProfi(x, y):\n",
    "\treturn [x[i] + y[i] for i in range(len(x))]\n",
    "\n",
    "def formatCSV(line):\n",
    "\tuIdx, uProfi = line\n",
    "\tres = [uIdx]\n",
    "\tfor uProfiDim in uProfi:\n",
    "\t\tres.append(uProfiDim)\n",
    "\treturn res"
   ]
  },
  {
   "cell_type": "code",
   "execution_count": null,
   "metadata": {},
   "outputs": [],
   "source": [
    "movieData = spark.read.csv('/user/hz333/data/project/mMetaProfi.csv', header = False)\n",
    "rateData = spark.read.csv('/user/hz333/data/project/sTrain.csv', header = False)"
   ]
  },
  {
   "cell_type": "code",
   "execution_count": null,
   "metadata": {},
   "outputs": [],
   "source": [
    "#(mIdx, mProfi) => (mIdx, [mProfi])\n",
    "movie = movieData.rdd.map(getMovieLine)\n",
    "#(uIdx, mIdx, rate, time) => (uIdx, (mIdx, wRate))\n",
    "rate = rateData.rdd.map(getRateLine)\n",
    "\n",
    "#(uIdx, (mIdx, rate)) => (uIdx, (1, rate, rate2))\n",
    "userRate = rate.map(getUserRate)\n",
    "#(uIdx, (1, rate, rate)) => (uIdx, (count, sumRate, sumRate2))\n",
    "userRate = userRate.reduceByKey(sumUserRate)\n",
    "\n",
    "userRate = userRate.collect()\n",
    "rateNorm = rateNormalizer(userRate)\n",
    "\n",
    "#(uIdx, (mIdx, rate)) => (mIdx, (uIdx, nRate))\n",
    "MURate = rate.map(rateNorm.normalize)\n",
    "#(mIdx, mProfi), (mIdx, (uIdx, rate)) => (mIdx, (mProfi, (uIdx, rate)))\n",
    "MUM = movie.join(MURate)\n",
    "\n",
    "#(mIdx, (mProfi, (uIdx, rate))) => (uIdx, [uProfiCompo])\n",
    "uProfiCompo = MUM.map(getUserComponent)\n",
    "#(uIdx, [uProfiCompo]) => (uIdx, [uProfi])\n",
    "uProfi = uProfiCompo.reduceByKey(sumUserProfi)"
   ]
  },
  {
   "cell_type": "code",
   "execution_count": null,
   "metadata": {},
   "outputs": [],
   "source": [
    "uProfi.filter(lambda x: x[0] == '1').collect()"
   ]
  },
  {
   "cell_type": "code",
   "execution_count": null,
   "metadata": {},
   "outputs": [],
   "source": [
    "len(userRate)"
   ]
  },
  {
   "cell_type": "code",
   "execution_count": null,
   "metadata": {},
   "outputs": [],
   "source": [
    "#(uIdx, [uProfi]) => (uIdx, uProfi)\n",
    "uProfiCSV = uProfi.map(formatCSV)\n",
    "uProfiCSV = spark.createDataFrame(uProfiCSV, samplingRatio = 1)\n",
    "uProfiCSV.repartition(1).write.option('header', 'false').csv('/user/hz333/data/project/uMetaProfi.csv')"
   ]
  }
 ],
 "metadata": {
  "kernelspec": {
   "display_name": "PySpark",
   "language": "",
   "name": "pysparkkernel"
  },
  "language_info": {
   "codemirror_mode": {
    "name": "python",
    "version": 2
   },
   "mimetype": "text/x-python",
   "name": "pyspark",
   "pygments_lexer": "python2"
  }
 },
 "nbformat": 4,
 "nbformat_minor": 2
}
