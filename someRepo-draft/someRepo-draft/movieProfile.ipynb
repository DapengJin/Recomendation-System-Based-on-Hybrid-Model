{
 "cells": [
  {
   "cell_type": "code",
   "execution_count": null,
   "metadata": {},
   "outputs": [],
   "source": [
    "import math\n",
    "\n",
    "def getLine(row):\n",
    "\tindex, name, tags = row\n",
    "\ttags = tags.split('|')\n",
    "\treturn (index, tags)\n",
    "\n",
    "def getTag(line):\n",
    "\tindex, tags = line\n",
    "\treturn [(tag, 1) for tag in tags] \n",
    "\n",
    "def count(x, y):\n",
    "\treturn x + y\n",
    "\n",
    "class IDFScore(object):\n",
    "\tdef __init__(self, tagCount, N):\n",
    "\t\tself.tagCount = dict(tagCount)\n",
    "\t\tself.N = N\n",
    "\t\tself.tagList = sorted(self.tagCount.keys())\n",
    "\t\treturn\n",
    "\n",
    "\tdef get(self, line):\n",
    "\t\tindex, tags = line\n",
    "\t\ttags = frozenset(tags)\n",
    "\t\tindexIdf = [index]\n",
    "\t\tfor tag in self.tagList:\n",
    "\t\t\tif tag in tags:\n",
    "\t\t\t\tindexIdf.append(math.log(self.N / self.tagCount[tag], 2))\n",
    "\t\t\telse:\n",
    "\t\t\t\tindexIdf.append(0.)\n",
    "\t\treturn indexIdf"
   ]
  },
  {
   "cell_type": "code",
   "execution_count": null,
   "metadata": {},
   "outputs": [],
   "source": [
    "data = spark.read.csv('/user/hz333/data/project/movies.csv', header = True)"
   ]
  },
  {
   "cell_type": "code",
   "execution_count": null,
   "metadata": {},
   "outputs": [],
   "source": [
    "#(idx, name, tags) => (idx, [tag])\n",
    "line = data.rdd.map(getLine)\n",
    "\n",
    "#(idx, [tag]) => [(tag, 1)]\n",
    "tags = line.flatMap(getTag)\n",
    "#(tag,1) => (tag, count)\n",
    "tagCount = tags.reduceByKey(count)\n",
    "tagCount = tagCount.collect()\n",
    "\n",
    "IDF = IDFScore(tagCount, data.rdd.count())\n",
    "\n",
    "#(idx, [tag]) => (idx, tagIDFs)\n",
    "movieIDF = line.map(IDF.get) #the same tag appears in a movie no more than once => IDF = TF-IDF"
   ]
  },
  {
   "cell_type": "code",
   "execution_count": null,
   "metadata": {},
   "outputs": [],
   "source": [
    "movieIDF.take(1)"
   ]
  },
  {
   "cell_type": "code",
   "execution_count": null,
   "metadata": {},
   "outputs": [],
   "source": [
    "movieIDFCSV = spark.createDataFrame(movieIDF, samplingRatio = 1)\n",
    "movieIDFCSV.repartition(1).write.option('header', 'false').csv('/user/hz333/data/project/mMetaProfi.csv')"
   ]
  }
 ],
 "metadata": {
  "kernelspec": {
   "display_name": "PySpark",
   "language": "",
   "name": "pysparkkernel"
  },
  "language_info": {
   "codemirror_mode": {
    "name": "python",
    "version": 2
   },
   "mimetype": "text/x-python",
   "name": "pyspark",
   "pygments_lexer": "python2"
  }
 },
 "nbformat": 4,
 "nbformat_minor": 2
}
