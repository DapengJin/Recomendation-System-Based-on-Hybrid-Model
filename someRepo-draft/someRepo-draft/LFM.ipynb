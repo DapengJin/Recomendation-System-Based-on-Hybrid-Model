{
 "cells": [
  {
   "cell_type": "code",
   "execution_count": 1,
   "metadata": {},
   "outputs": [],
   "source": [
    "import pandas as pd\n",
    "import numpy as np\n",
    "from copy import deepcopy\n",
    "from scipy.sparse import csr_matrix"
   ]
  },
  {
   "cell_type": "code",
   "execution_count": 2,
   "metadata": {
    "scrolled": true
   },
   "outputs": [],
   "source": [
    "header=['user_id', 'item_id', 'rating', 'timestamp']\n",
    "train_data = pd.read_csv('train.csv', sep=',', names=header)\n",
    "test_data = pd.read_csv('test.csv', sep=',' , names=header)\n",
    "\n",
    "matrix = train_data.values\n",
    "\n",
    "train_rows = matrix[:,0].astype('int')\n",
    "train_cols = matrix[:,1].astype('int')\n",
    "train_rates = matrix[:,2]\n",
    "\n",
    "rows = matrix[:,0].astype('int')\n",
    "cols = matrix[:,1].astype('int')\n",
    "rates = matrix[:,2]\n",
    "user_num = len(set(rows))\n",
    "movi_num = len(set(cols))\n",
    "\n",
    "users = list(sorted(set(rows)))\n",
    "movies = list(sorted(set(cols)))\n",
    "\n",
    "for i in range(len(rows)):\n",
    "    rows[i] = users.index(rows[i])\n",
    "for i in range(len(cols)):\n",
    "    cols[i] = movies.index(cols[i])"
   ]
  },
  {
   "cell_type": "code",
   "execution_count": 3,
   "metadata": {},
   "outputs": [],
   "source": [
    "test_matrix = test_data.values\n",
    "test_rows = test_matrix[:,0].astype('int')\n",
    "test_cols = test_matrix[:,1].astype('int')\n",
    "test_rates = test_matrix[:,2]"
   ]
  },
  {
   "cell_type": "code",
   "execution_count": 4,
   "metadata": {},
   "outputs": [],
   "source": [
    "R = csr_matrix((rates, (rows, cols))).toarray()"
   ]
  },
  {
   "cell_type": "code",
   "execution_count": 5,
   "metadata": {},
   "outputs": [],
   "source": [
    "err_train = []\n",
    "err_test = []"
   ]
  },
  {
   "cell_type": "code",
   "execution_count": 6,
   "metadata": {},
   "outputs": [],
   "source": [
    "def test_err(full):\n",
    "    err = 0\n",
    "    for i in range(len(test_rows)):\n",
    "        err = err+abs(full[users.index(test_rows[i]),movies.index(test_cols[i])]-test_rates[i])\n",
    "    return err/len(test_rows)\n",
    "def train_err(full):\n",
    "    err = 0\n",
    "    for i in range(len(rows)):\n",
    "        err = err+abs(full[users.index(train_rows[i]),movies.index(train_cols[i])]-train_rates[i])\n",
    "    return err/len(train_rows)"
   ]
  },
  {
   "cell_type": "code",
   "execution_count": 7,
   "metadata": {},
   "outputs": [],
   "source": [
    "def save_csv(itr,full):\n",
    "    pre_rows = []\n",
    "    pre_cols = []\n",
    "    pre_rates = []\n",
    "    for i in range(full.shape[0]):\n",
    "        us = users[i]\n",
    "        for j in range(full.shape[1]):\n",
    "            mo = movies[j]\n",
    "            pre_rows.append(us)\n",
    "            pre_cols.append(mo)\n",
    "            pre_rates.append(full[i,j])\n",
    "    pre = np.array([np.array(pre_rows).T,np.array(pre_cols).T,np.array(pre_rates).T])\n",
    "    pre = pre.T\n",
    "    pd.DataFrame(pre).to_csv(\"pre_mse_\"+str(itr)+\".csv\",index = False,header=False)"
   ]
  },
  {
   "cell_type": "code",
   "execution_count": 8,
   "metadata": {},
   "outputs": [],
   "source": [
    "class MF():\n",
    "    def __init__(self, R, K, alpha, beta, iterations):\n",
    "        self.R = R\n",
    "        self.num_users, self.num_items = R.shape\n",
    "        self.K = K\n",
    "        self.alpha = alpha\n",
    "        self.beta = beta\n",
    "        self.iterations = iterations\n",
    "        self.P = np.random.normal(scale=1./self.K, size=(self.num_users, self.K))\n",
    "        self.Q = np.random.normal(scale=1./self.K, size=(self.num_items, self.K))\n",
    "        self.b_u = np.zeros(self.num_users)\n",
    "        self.b_i = np.zeros(self.num_items)\n",
    "        self.b = np.mean(self.R[np.where(self.R != 0)])\n",
    "\n",
    "    def train(self):\n",
    "        self.samples = [\n",
    "            (i, j, self.R[i, j])\n",
    "            for i in range(self.num_users)\n",
    "            for j in range(self.num_items)\n",
    "            if self.R[i, j] > 0\n",
    "        ]\n",
    "\n",
    "        training_process = []\n",
    "        for i in range(self.iterations):\n",
    "            np.random.shuffle(self.samples)\n",
    "            self.sgd()\n",
    "            mse = self.mse()\n",
    "            #training_process.append((i, mse))\n",
    "            print(\"Iteration: %d ; \" % i )\n",
    "            full = self.full_matrix()\n",
    "            err_train.append(train_err(full))\n",
    "            err_test.append(test_err(full))\n",
    "            print('train error',err_train[-1])\n",
    "            print('test error',err_test[-1])\n",
    "            \n",
    "            # save full matrix here:\n",
    "            if i == 23:\n",
    "            #    save_csv(int(mse),full)\n",
    "                print(\"saved\")\n",
    "                \n",
    "        return training_process\n",
    "\n",
    "    def mse(self):\n",
    "        xs, ys = self.R.nonzero()\n",
    "        predicted = self.full_matrix()\n",
    "        error = 0\n",
    "        for x, y in zip(xs, ys):\n",
    "            error += pow(self.R[x, y] - predicted[x, y], 2)\n",
    "        return np.sqrt(error)\n",
    "\n",
    "    def sgd(self):\n",
    "        for i, j, r in self.samples:\n",
    "            prediction = self.get_rating(i, j)\n",
    "            e = (r - prediction)\n",
    "            self.b_u[i] += self.alpha * (e - self.beta * self.b_u[i])\n",
    "            self.b_i[j] += self.alpha * (e - self.beta * self.b_i[j])\n",
    "            self.P[i, :] += self.alpha * (e * self.Q[j, :] - self.beta * self.P[i,:])\n",
    "            self.Q[j, :] += self.alpha * (e * self.P[i, :] - self.beta * self.Q[j,:])\n",
    "\n",
    "    def get_rating(self, i, j):\n",
    "        prediction = self.b + self.b_u[i] + self.b_i[j] + self.P[i, :].dot(self.Q[j, :].T)\n",
    "        return prediction\n",
    "\n",
    "    def full_matrix(self):\n",
    "        return self.b + self.b_u[:,np.newaxis] + self.b_i[np.newaxis:,] + self.P.dot(self.Q.T)"
   ]
  },
  {
   "cell_type": "code",
   "execution_count": 9,
   "metadata": {},
   "outputs": [],
   "source": [
    "mf = MF(R, K=100, alpha=0.01, beta=0.001, iterations=24)"
   ]
  },
  {
   "cell_type": "code",
   "execution_count": 10,
   "metadata": {
    "scrolled": false
   },
   "outputs": [
    {
     "name": "stdout",
     "output_type": "stream",
     "text": [
      "Iteration: 0 ; \n",
      "train error 0.6979810821859248\n",
      "test error 0.7267366395723144\n",
      "Iteration: 1 ; \n",
      "train error 0.6761505154408742\n",
      "test error 0.7089848239396798\n",
      "Iteration: 2 ; \n",
      "train error 0.6641553524362525\n",
      "test error 0.699402049557554\n",
      "Iteration: 3 ; \n",
      "train error 0.6559269796613058\n",
      "test error 0.6953824328534617\n",
      "Iteration: 4 ; \n",
      "train error 0.6493707349520543\n",
      "test error 0.6898576250508595\n",
      "Iteration: 5 ; \n",
      "train error 0.6443614885777558\n",
      "test error 0.6888308967755732\n",
      "Iteration: 6 ; \n",
      "train error 0.638294178191235\n",
      "test error 0.685873949876968\n",
      "Iteration: 7 ; \n",
      "train error 0.6341885748628401\n",
      "test error 0.6855211071294873\n",
      "Iteration: 8 ; \n",
      "train error 0.6269467366143195\n",
      "test error 0.68362826015763\n",
      "Iteration: 9 ; \n",
      "train error 0.6183178827147177\n",
      "test error 0.6819743473953286\n",
      "Iteration: 10 ; \n",
      "train error 0.6058958527705959\n",
      "test error 0.6807177699435711\n",
      "Iteration: 11 ; \n",
      "train error 0.5914498675621991\n",
      "test error 0.6786439549763216\n",
      "Iteration: 12 ; \n",
      "train error 0.5737569509949155\n",
      "test error 0.6777882114975348\n",
      "Iteration: 13 ; \n",
      "train error 0.5547695187018258\n",
      "test error 0.6769404960216748\n",
      "Iteration: 14 ; \n",
      "train error 0.5329894216811635\n",
      "test error 0.6744375688033553\n",
      "Iteration: 15 ; \n",
      "train error 0.5092096953365854\n",
      "test error 0.6708942358347176\n",
      "Iteration: 16 ; \n",
      "train error 0.48686118989329974\n",
      "test error 0.6717685335485122\n",
      "Iteration: 17 ; \n",
      "train error 0.46368319357916193\n",
      "test error 0.6697347182335063\n",
      "Iteration: 18 ; \n",
      "train error 0.44182054863715003\n",
      "test error 0.6682340862779922\n",
      "Iteration: 19 ; \n",
      "train error 0.42034772670895015\n",
      "test error 0.667224644597667\n",
      "Iteration: 20 ; \n",
      "train error 0.39972206974594215\n",
      "test error 0.6666341077620155\n",
      "Iteration: 21 ; \n",
      "train error 0.38015594188586593\n",
      "test error 0.6654601311607836\n",
      "Iteration: 22 ; \n",
      "train error 0.3612282688819438\n",
      "test error 0.6655699897012457\n",
      "Iteration: 23 ; \n",
      "train error 0.34343154943766707\n",
      "test error 0.665647630483406\n",
      "saved\n"
     ]
    },
    {
     "data": {
      "text/plain": [
       "[]"
      ]
     },
     "execution_count": 10,
     "metadata": {},
     "output_type": "execute_result"
    }
   ],
   "source": [
    "mf.train()"
   ]
  }
 ],
 "metadata": {
  "kernelspec": {
   "display_name": "Python 3",
   "language": "python",
   "name": "python3"
  },
  "language_info": {
   "codemirror_mode": {
    "name": "ipython",
    "version": 3
   },
   "file_extension": ".py",
   "mimetype": "text/x-python",
   "name": "python",
   "nbconvert_exporter": "python",
   "pygments_lexer": "ipython3",
   "version": "3.6.8"
  }
 },
 "nbformat": 4,
 "nbformat_minor": 2
}
