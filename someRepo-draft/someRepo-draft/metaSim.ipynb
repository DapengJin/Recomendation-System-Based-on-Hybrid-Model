{
 "cells": [
  {
   "cell_type": "code",
   "execution_count": null,
   "metadata": {},
   "outputs": [],
   "source": [
    "import math\n",
    "\n",
    "def getCos(m, u):\n",
    "\tcompo = [m[i] * u[i] for i in range(len(m))]\n",
    "\treturn sum(compo)\n",
    "\n",
    "def normalize(profi):\n",
    "\tnorm2 = sum([dim ** 2 for dim in profi])\n",
    "\tnorm = math.sqrt(norm2)\n",
    "\treturn [dim / norm2 for dim in profi] #norm(profi) == 1\n",
    "\n",
    "def getProfi(row):\n",
    "\tidx = row[0]\n",
    "\tprofi = [float(profiDim) for profiDim in row[1:]]\n",
    "\tnProfi = normalize(profi)\n",
    "\treturn (idx, nProfi)\n",
    "\n",
    "def getSim(MU):\n",
    "\t(mIdx, mProfi), (uIdx, uProfi) = MU\n",
    "\tsim = getCos(mProfi, uProfi)\n",
    "\treturn (mIdx, uIdx, sim)"
   ]
  },
  {
   "cell_type": "code",
   "execution_count": null,
   "metadata": {},
   "outputs": [],
   "source": [
    "uProfi = spark.read.csv('/user/hz333/data/project/userMetaProfile.csv', header = False)\n",
    "mProfi = spark.read.csv('/user/hz333/data/project/movieMetaProfile.csv', header = False)"
   ]
  },
  {
   "cell_type": "code",
   "execution_count": null,
   "metadata": {},
   "outputs": [],
   "source": [
    "#(mIdx, mProfi) => #(mIdx, [nMProfi])\n",
    "movie = mProfi.rdd.map(getProfi)\n",
    "#(uIdx, uProfi) => #(uIdx, [nMProfi])\n",
    "user = uProfi.rdd.map(getProfi)\n",
    "#(mIdx, [mProfi]), (uIdx, [uProfi]) => ((mIdx, [mProfi]), (uIdx, [uProfi]))\n",
    "MU = movie.cartesian(user)\n",
    "#((mIdx, [mProfi]), (uIdx, [uProfi])) => (mIdx, uIdx, sim)\n",
    "simMat = MU.map(getSim)"
   ]
  },
  {
   "cell_type": "code",
   "execution_count": null,
   "metadata": {},
   "outputs": [],
   "source": [
    "simCSV = spark.createDataFrame(simMat, samplingRatio = 1)\n",
    "simCSV.repartition(1).write.option('header', 'false').csv('/user/hz333/data/project/metaSim.csv')"
   ]
  },
  {
   "cell_type": "code",
   "execution_count": null,
   "metadata": {},
   "outputs": [],
   "source": [
    "simMat.take(1)"
   ]
  }
 ],
 "metadata": {
  "kernelspec": {
   "display_name": "PySpark",
   "language": "",
   "name": "pysparkkernel"
  },
  "language_info": {
   "codemirror_mode": {
    "name": "python",
    "version": 2
   },
   "mimetype": "text/x-python",
   "name": "pyspark",
   "pygments_lexer": "python2"
  }
 },
 "nbformat": 4,
 "nbformat_minor": 2
}
